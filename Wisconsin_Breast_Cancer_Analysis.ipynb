{
 "cells": [
  {
   "cell_type": "markdown",
   "id": "9383ff83",
   "metadata": {},
   "source": [
    "# PfDA Project II. - Wisconsin Breast Cancer Investigation\n",
    "\n"
   ]
  },
  {
   "cell_type": "markdown",
   "id": "cf3f4402",
   "metadata": {},
   "source": [
    "#### Assignment for 22-23 Programming for Data Analysis by Mr Brian McGinely\n",
    "    \n",
    "#### Author: Eva Czeyda-Pommersheim"
   ]
  },
  {
   "cell_type": "markdown",
   "id": "9357a964",
   "metadata": {},
   "source": [
    "## I. Introduction"
   ]
  },
  {
   "cell_type": "code",
   "execution_count": null,
   "id": "29e0366a",
   "metadata": {},
   "outputs": [],
   "source": []
  },
  {
   "cell_type": "code",
   "execution_count": null,
   "id": "e2cecb94",
   "metadata": {},
   "outputs": [],
   "source": []
  },
  {
   "cell_type": "markdown",
   "id": "53b82818",
   "metadata": {},
   "source": [
    "## II. Literature Review"
   ]
  },
  {
   "cell_type": "code",
   "execution_count": null,
   "id": "a29ae891",
   "metadata": {},
   "outputs": [],
   "source": []
  },
  {
   "cell_type": "code",
   "execution_count": null,
   "id": "bd65490a",
   "metadata": {},
   "outputs": [],
   "source": []
  },
  {
   "cell_type": "markdown",
   "id": "73124e9b",
   "metadata": {},
   "source": [
    "## III. Statistical Analysis of Wisconsin Breat Cancer Dataset"
   ]
  },
  {
   "cell_type": "code",
   "execution_count": null,
   "id": "442599ec",
   "metadata": {},
   "outputs": [],
   "source": []
  },
  {
   "cell_type": "code",
   "execution_count": null,
   "id": "effcb726",
   "metadata": {},
   "outputs": [],
   "source": []
  },
  {
   "cell_type": "markdown",
   "id": "6885caf3",
   "metadata": {},
   "source": [
    "## IV. Modelling and Performance Review"
   ]
  },
  {
   "cell_type": "code",
   "execution_count": null,
   "id": "78f07538",
   "metadata": {},
   "outputs": [],
   "source": []
  },
  {
   "cell_type": "code",
   "execution_count": null,
   "id": "6e689e76",
   "metadata": {},
   "outputs": [],
   "source": []
  },
  {
   "cell_type": "markdown",
   "id": "8481c1f2",
   "metadata": {},
   "source": [
    "## V. Modelling and Performance Review"
   ]
  },
  {
   "cell_type": "code",
   "execution_count": null,
   "id": "717ef3c2",
   "metadata": {},
   "outputs": [],
   "source": []
  },
  {
   "cell_type": "code",
   "execution_count": null,
   "id": "0b729357",
   "metadata": {},
   "outputs": [],
   "source": []
  },
  {
   "cell_type": "markdown",
   "id": "fdb06fa7",
   "metadata": {},
   "source": [
    "## VI. Comparison with Literature Review"
   ]
  },
  {
   "cell_type": "code",
   "execution_count": null,
   "id": "45bf5b4b",
   "metadata": {},
   "outputs": [],
   "source": []
  },
  {
   "cell_type": "code",
   "execution_count": null,
   "id": "867ab1ee",
   "metadata": {},
   "outputs": [],
   "source": []
  },
  {
   "cell_type": "markdown",
   "id": "9bcdf863",
   "metadata": {},
   "source": [
    "## VII. Possibilities for extending dataset - Data Synthesis"
   ]
  },
  {
   "cell_type": "code",
   "execution_count": null,
   "id": "acbe2e5a",
   "metadata": {},
   "outputs": [],
   "source": []
  },
  {
   "cell_type": "code",
   "execution_count": null,
   "id": "29cff12c",
   "metadata": {},
   "outputs": [],
   "source": []
  },
  {
   "cell_type": "markdown",
   "id": "73868c75",
   "metadata": {},
   "source": [
    "## VIII. Conclusion"
   ]
  },
  {
   "cell_type": "code",
   "execution_count": null,
   "id": "1d354b41",
   "metadata": {},
   "outputs": [],
   "source": []
  },
  {
   "cell_type": "code",
   "execution_count": null,
   "id": "0d9ac4ee",
   "metadata": {},
   "outputs": [],
   "source": []
  },
  {
   "cell_type": "markdown",
   "id": "4e78074d",
   "metadata": {},
   "source": [
    "## IX. References"
   ]
  },
  {
   "cell_type": "markdown",
   "id": "69b3270e",
   "metadata": {},
   "source": [
    "### Tutorials<p>\n",
    "\n",
    "[1] Simplilearn (2018) Scikit-Learn Tutorial | Machine Learning with scikit-learn | sklearn | python tutorial | Simplilearn, YouTube. YouTube. Available at: https://www.youtube.com/watch?v=0Lt9w-BxKFQ (Accessed: January 15, 2023). <p>\n",
    "[2] programmingwithmosh (2020) Python machine learning tutorial (data science), YouTube. YouTube. Available at: https://www.youtube.com/watch?v=7eh4d6sabA0 (Accessed: January 15, 2023).<p>\n",
    "[3] Simplilearn (2020) Machine learning for absolute beginners 2020 | machine learning tutorial for beginners | simplilearn, YouTube. YouTube. Available at: https://www.youtube.com/watch?v=oxvtR803RhE (Accessed: January 15, 2023).<p>\n",
    "[4] Simplilearn (2018) Machine learning tutorial part - 1 | machine learning tutorial for beginners part - 1 | simplilearn, YouTube. YouTube. Available at: https://www.youtube.com/watch?v=DWsJc1xnOZo (Accessed: January 15, 2023).<p>\n",
    "[5] Simplilearn (2018) Machine learning tutorial part - 2 | machine learning tutorial for beginners part - 2 | simplilearn, YouTube. YouTube. Available at: https://www.youtube.com/watch?v=_Wkx_447zBM (Accessed: January 15, 2023).<p>\n",
    "[6] Simplilearn (2018) Machine learning basics | what is machine learning? | introduction to machine learning | Simplilearn, YouTube. YouTube. Available at: https://www.youtube.com/watch?v=ukzFI9rgwfU&amp;list=PLEiEAq2VkUUI73199L-Aym2MnKjBxJ-4X (Accessed: January 15, 2023). <p>\n",
    "[7] An introduction to machine learning with scikit-learn (no date) scikit. Available at: https://scikit-learn.org/stable/tutorial/basic/tutorial.html (Accessed: January 15, 2023).<p>\n",
    "[8] Learn intro to machine learning tutorials (no date) Kaggle. Available at: https://www.kaggle.com/learn/intro-to-machine-learning (Accessed: January 15, 2023).<p>\n",
    "\n",
    "### Literature Review<p>\n",
    "[9] Kadhim, R.R. and Kamil, M.Y., 2023. Comparison of machine learning models for breast cancer diagnosis. Int J Artif Intell, 12(1), pp.415-421.<p>\n",
    "[10] Akbulut, S., Cicek, I.B. and Colak, C., 2022. Classification of Breast Cancer on the Strength of Potential Risk Factors with Boosting Models: A Public Health Informatics Application. Medical Bulletin of Haseki/Haseki Tip Bulteni, 60(3).<p>\n",
    "[11] Sinha, N.K., Khulal, M., Gurung, M. and Lal, A., 2020. Developing a web based system for breast cancer prediction using xgboost classifier. Int J Eng Res, 9, pp.852-856.<p>\n",
    "[12] Rahman, M.A., chandren Muniyandi, R., Albashish, D., Rahman, M.M. and Usman, O.L., 2021. Artificial neural network with Taguchi method for robust classification model to improve classification accuracy of breast cancer. PeerJ Computer Science, 7, p.e344.<p>\n",
    "[13] Abdulkareem, S.A. and Abdulkareem, Z.O., 2021. An evaluation of the Wisconsin breast cancer dataset using ensemble classifiers and RFE feature selection. Int. J. Sci., Basic Appl. Res., 55(2), pp.67-80.<p>\n",
    "\n",
    "    \n",
    "### Code"
   ]
  },
  {
   "cell_type": "markdown",
   "id": "ac75f309",
   "metadata": {},
   "source": [
    "## END"
   ]
  }
 ],
 "metadata": {
  "kernelspec": {
   "display_name": "Python 3 (ipykernel)",
   "language": "python",
   "name": "python3"
  },
  "language_info": {
   "codemirror_mode": {
    "name": "ipython",
    "version": 3
   },
   "file_extension": ".py",
   "mimetype": "text/x-python",
   "name": "python",
   "nbconvert_exporter": "python",
   "pygments_lexer": "ipython3",
   "version": "3.9.13"
  }
 },
 "nbformat": 4,
 "nbformat_minor": 5
}
