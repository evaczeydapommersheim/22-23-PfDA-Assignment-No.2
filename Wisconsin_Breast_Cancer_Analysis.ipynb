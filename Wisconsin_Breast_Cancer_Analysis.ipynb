{
 "cells": [
  {
   "cell_type": "markdown",
   "id": "9383ff83",
   "metadata": {},
   "source": [
    "# PfDA Project II. - Wisconsin Breast Cancer Investigation\n",
    "\n"
   ]
  },
  {
   "cell_type": "markdown",
   "id": "cf3f4402",
   "metadata": {},
   "source": [
    "#### Assignment for 22-23 Programming for Data Analysis by Mr Brian McGinely\n",
    "    \n",
    "#### Author: Eva Czeyda-Pommersheim"
   ]
  },
  {
   "cell_type": "markdown",
   "id": "9357a964",
   "metadata": {},
   "source": [
    "## I. Introduction"
   ]
  },
  {
   "cell_type": "code",
   "execution_count": null,
   "id": "29e0366a",
   "metadata": {},
   "outputs": [],
   "source": []
  },
  {
   "cell_type": "code",
   "execution_count": null,
   "id": "e2cecb94",
   "metadata": {},
   "outputs": [],
   "source": []
  },
  {
   "cell_type": "markdown",
   "id": "53b82818",
   "metadata": {},
   "source": [
    "## II. Literature Review"
   ]
  },
  {
   "cell_type": "code",
   "execution_count": null,
   "id": "a29ae891",
   "metadata": {},
   "outputs": [],
   "source": []
  },
  {
   "cell_type": "code",
   "execution_count": null,
   "id": "bd65490a",
   "metadata": {},
   "outputs": [],
   "source": []
  },
  {
   "cell_type": "markdown",
   "id": "73124e9b",
   "metadata": {},
   "source": [
    "## III. Statistical Analysis of Wisconsin Breat Cancer Dataset"
   ]
  },
  {
   "cell_type": "code",
   "execution_count": null,
   "id": "442599ec",
   "metadata": {},
   "outputs": [],
   "source": []
  },
  {
   "cell_type": "code",
   "execution_count": null,
   "id": "effcb726",
   "metadata": {},
   "outputs": [],
   "source": []
  },
  {
   "cell_type": "markdown",
   "id": "6885caf3",
   "metadata": {},
   "source": [
    "## IV. Modelling and Performance Review"
   ]
  },
  {
   "cell_type": "code",
   "execution_count": null,
   "id": "78f07538",
   "metadata": {},
   "outputs": [],
   "source": []
  },
  {
   "cell_type": "code",
   "execution_count": null,
   "id": "6e689e76",
   "metadata": {},
   "outputs": [],
   "source": []
  },
  {
   "cell_type": "markdown",
   "id": "8481c1f2",
   "metadata": {},
   "source": [
    "## V. Modelling and Performance Review"
   ]
  },
  {
   "cell_type": "code",
   "execution_count": null,
   "id": "717ef3c2",
   "metadata": {},
   "outputs": [],
   "source": []
  },
  {
   "cell_type": "code",
   "execution_count": null,
   "id": "0b729357",
   "metadata": {},
   "outputs": [],
   "source": []
  },
  {
   "cell_type": "markdown",
   "id": "fdb06fa7",
   "metadata": {},
   "source": [
    "## VI. Comparison with Literature Review"
   ]
  },
  {
   "cell_type": "code",
   "execution_count": null,
   "id": "45bf5b4b",
   "metadata": {},
   "outputs": [],
   "source": []
  },
  {
   "cell_type": "code",
   "execution_count": null,
   "id": "867ab1ee",
   "metadata": {},
   "outputs": [],
   "source": []
  },
  {
   "cell_type": "markdown",
   "id": "9bcdf863",
   "metadata": {},
   "source": [
    "## VII. Possibilities for extending dataset - Data Synthesis"
   ]
  },
  {
   "cell_type": "code",
   "execution_count": null,
   "id": "acbe2e5a",
   "metadata": {},
   "outputs": [],
   "source": []
  },
  {
   "cell_type": "code",
   "execution_count": null,
   "id": "29cff12c",
   "metadata": {},
   "outputs": [],
   "source": []
  },
  {
   "cell_type": "markdown",
   "id": "73868c75",
   "metadata": {},
   "source": [
    "## VIII. Conclusion"
   ]
  },
  {
   "cell_type": "code",
   "execution_count": null,
   "id": "1d354b41",
   "metadata": {},
   "outputs": [],
   "source": []
  },
  {
   "cell_type": "code",
   "execution_count": null,
   "id": "0d9ac4ee",
   "metadata": {},
   "outputs": [],
   "source": []
  },
  {
   "cell_type": "markdown",
   "id": "4e78074d",
   "metadata": {},
   "source": [
    "## IX. References"
   ]
  },
  {
   "cell_type": "raw",
   "id": "1a001308",
   "metadata": {},
   "source": [
    "Please refer to README File in the main Guthub Reposiroty for all references that were required to complete this workbook."
   ]
  },
  {
   "cell_type": "markdown",
   "id": "ac75f309",
   "metadata": {},
   "source": [
    "## END"
   ]
  }
 ],
 "metadata": {
  "kernelspec": {
   "display_name": "Python 3 (ipykernel)",
   "language": "python",
   "name": "python3"
  },
  "language_info": {
   "codemirror_mode": {
    "name": "ipython",
    "version": 3
   },
   "file_extension": ".py",
   "mimetype": "text/x-python",
   "name": "python",
   "nbconvert_exporter": "python",
   "pygments_lexer": "ipython3",
   "version": "3.9.13"
  }
 },
 "nbformat": 4,
 "nbformat_minor": 5
}
